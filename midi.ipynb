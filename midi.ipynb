{
 "cells": [
  {
   "cell_type": "code",
   "execution_count": 1,
   "metadata": {},
   "outputs": [],
   "source": [
    "import tensorflow as tf\n",
    "\n",
    "from basic_pitch.inference import predict\n",
    "from basic_pitch import ICASSP_2022_MODEL_PATH"
   ]
  },
  {
   "cell_type": "code",
   "execution_count": 2,
   "metadata": {},
   "outputs": [],
   "source": [
    "from basic_pitch.inference import predict_and_save"
   ]
  },
  {
   "cell_type": "code",
   "execution_count": 9,
   "metadata": {},
   "outputs": [
    {
     "name": "stdout",
     "output_type": "stream",
     "text": [
      "\n",
      "Predicting MIDI for input/other.wav......  🥁🎷🎸🎻                                                \n",
      "\n",
      "  Creating midi...\n",
      "  💅 Saved to output/result/other_basic_pitch.mid\n",
      "\n",
      "\n",
      "  Creating midi sonification...\n",
      "  🎧 Saved to output/result/other_basic_pitch.wav\n"
     ]
    },
    {
     "ename": "TypeError",
     "evalue": "cannot unpack non-iterable NoneType object",
     "output_type": "error",
     "traceback": [
      "\u001b[0;31m---------------------------------------------------------------------------\u001b[0m",
      "\u001b[0;31mTypeError\u001b[0m                                 Traceback (most recent call last)",
      "\u001b[1;32m/Users/mac/Desktop/Repos/spleeter/spleeter_git/midi.ipynb Cell 3\u001b[0m in \u001b[0;36m<cell line: 1>\u001b[0;34m()\u001b[0m\n\u001b[0;32m----> <a href='vscode-notebook-cell:/Users/mac/Desktop/Repos/spleeter/spleeter_git/midi.ipynb#W2sZmlsZQ%3D%3D?line=0'>1</a>\u001b[0m model_output, midi_data, note_activations \u001b[39m=\u001b[39m predict_and_save([\u001b[39m'\u001b[39m\u001b[39m./input/other.wav\u001b[39m\u001b[39m'\u001b[39m], \u001b[39m'\u001b[39m\u001b[39m./output/result\u001b[39m\u001b[39m'\u001b[39m, \u001b[39mTrue\u001b[39;00m, \u001b[39mTrue\u001b[39;00m, \u001b[39mFalse\u001b[39;00m, \u001b[39mFalse\u001b[39;00m)\n",
      "\u001b[0;31mTypeError\u001b[0m: cannot unpack non-iterable NoneType object"
     ]
    }
   ],
   "source": [
    "model_output, midi_data, note_activations = predict_and_save(['./input/other.wav'], './output/result', True, True, False, False)"
   ]
  },
  {
   "cell_type": "code",
   "execution_count": 7,
   "metadata": {},
   "outputs": [
    {
     "name": "stdout",
     "output_type": "stream",
     "text": [
      "Predicting MIDI for .......                                            \n",
      "Predicting MIDI for n......  🥁🎷🎸🎻🎹🪘🪗🎺                          "
     ]
    },
    {
     "name": "stderr",
     "output_type": "stream",
     "text": [
      "/Users/mac/miniforge3/envs/tensorflow_macos_3.8/lib/python3.8/site-packages/librosa/util/decorators.py:88: UserWarning: PySoundFile failed. Trying audioread instead.\n",
      "  return f(*args, **kwargs)\n"
     ]
    },
    {
     "name": "stdout",
     "output_type": "stream",
     "text": [
      "Predicting MIDI for n......  🥁🎷🎸🎻🎹🪘🪗�🎷🎸🎻🎹🪘                                           "
     ]
    },
    {
     "name": "stderr",
     "output_type": "stream",
     "text": [
      "2022-08-29 16:26:38.137384: W tensorflow/core/platform/profile_utils/cpu_utils.cc:128] Failed to get CPU frequency: 0 Hz\n"
     ]
    },
    {
     "name": "stdout",
     "output_type": "stream",
     "text": [
      "Predicting MIDI for /......  🥁🎷🎸🎻🎹🪘🪗                                                      \n",
      "\n",
      "  Creating midi...\n",
      "Predicting MIDI for n......                                              💅 Saved to output/cant_basic_pitch.mid\n",
      "\n",
      "\n",
      "  Creating midi sonification...\n",
      "Predicting MIDI for n......  🥁🎷🎸🎻🎹🪘🪗  🎧 Saved to output/cant_basic_pitch.wav\n",
      "Predicting MIDI for /......                                            "
     ]
    },
    {
     "ename": "TypeError",
     "evalue": "cannot unpack non-iterable NoneType object",
     "output_type": "error",
     "traceback": [
      "\u001b[0;31m---------------------------------------------------------------------------\u001b[0m",
      "\u001b[0;31mTypeError\u001b[0m                                 Traceback (most recent call last)",
      "\u001b[1;32m/Users/mac/Desktop/Repos/spleeter/spleeter_git/midi.ipynb Cell 2\u001b[0m in \u001b[0;36m<cell line: 2>\u001b[0;34m()\u001b[0m\n\u001b[1;32m      <a href='vscode-notebook-cell:/Users/mac/Desktop/Repos/spleeter/spleeter_git/midi.ipynb#W1sZmlsZQ%3D%3D?line=0'>1</a>\u001b[0m \u001b[39mfrom\u001b[39;00m \u001b[39mbasic_pitch\u001b[39;00m\u001b[39m.\u001b[39;00m\u001b[39minference\u001b[39;00m \u001b[39mimport\u001b[39;00m predict_and_save\n\u001b[0;32m----> <a href='vscode-notebook-cell:/Users/mac/Desktop/Repos/spleeter/spleeter_git/midi.ipynb#W1sZmlsZQ%3D%3D?line=1'>2</a>\u001b[0m model_output, midi_data, note_activations \u001b[39m=\u001b[39m predict_and_save([\u001b[39m'\u001b[39m\u001b[39m./input/cant.mp3\u001b[39m\u001b[39m'\u001b[39m], \u001b[39m'\u001b[39m\u001b[39m./output\u001b[39m\u001b[39m'\u001b[39m, \u001b[39mTrue\u001b[39;00m, \u001b[39mTrue\u001b[39;00m, \u001b[39mFalse\u001b[39;00m, \u001b[39mFalse\u001b[39;00m)\n",
      "\u001b[0;31mTypeError\u001b[0m: cannot unpack non-iterable NoneType object"
     ]
    }
   ],
   "source": [
    "model_output, midi_data, note_activations = predict_and_save(['./input/cant.mp3'], './output', True, True, False, False)"
   ]
  },
  {
   "cell_type": "code",
   "execution_count": 12,
   "metadata": {},
   "outputs": [
    {
     "name": "stdout",
     "output_type": "stream",
     "text": [
      "Predicting MIDI for cant.mp3......  🥁🎷Metal device set to: Apple M1 Pro\n",
      "\n",
      "systemMemory: 16.00 GB\n",
      "maxCacheSize: 5.33 GB\n",
      "\n",
      "Predicting MIDI for cant.mp3......                                                   "
     ]
    },
    {
     "name": "stderr",
     "output_type": "stream",
     "text": [
      "/Users/mac/miniforge3/envs/tensorflow_macos_3.8/lib/python3.8/site-packages/librosa/util/decorators.py:88: UserWarning: PySoundFile failed. Trying audioread instead.\n",
      "  return f(*args, **kwargs)\n"
     ]
    },
    {
     "name": "stdout",
     "output_type": "stream",
     "text": [
      "Predicting MIDI for cant.mp3......  🥁🎷🎸🎻Unexpected exception formatting exception. Falling back to standard exception\n"
     ]
    },
    {
     "name": "stderr",
     "output_type": "stream",
     "text": [
      "Traceback (most recent call last):\n",
      "  File \"/Users/mac/miniforge3/envs/tensorflow_macos_3.8/lib/python3.8/site-packages/IPython/core/interactiveshell.py\", line 3398, in run_code\n",
      "    exec(code_obj, self.user_global_ns, self.user_ns)\n",
      "  File \"/var/folders/xz/g818yhs51pg894xd59wgxxzh0000gn/T/ipykernel_8330/1644086126.py\", line 1, in <cell line: 1>\n",
      "    model_output, midi_data, note_activations = predict('cant.mp3')\n",
      "  File \"/Users/mac/miniforge3/envs/tensorflow_macos_3.8/lib/python3.8/site-packages/basic_pitch/inference.py\", line 296, in predict\n",
      "    model_output = run_inference(audio_path, model, debug_file)\n",
      "  File \"/Users/mac/miniforge3/envs/tensorflow_macos_3.8/lib/python3.8/site-packages/basic_pitch/inference.py\", line 142, in run_inference\n",
      "    audio_windowed, _, audio_original_length = get_audio_input(audio_path, overlap_len, hop_size)\n",
      "  File \"/Users/mac/miniforge3/envs/tensorflow_macos_3.8/lib/python3.8/site-packages/basic_pitch/inference.py\", line 90, in get_audio_input\n",
      "    audio_original, _ = librosa.load(str(audio_path), sr=AUDIO_SAMPLE_RATE, mono=True)\n",
      "  File \"/Users/mac/miniforge3/envs/tensorflow_macos_3.8/lib/python3.8/site-packages/librosa/util/decorators.py\", line 88, in inner_f\n",
      "    return f(*args, **kwargs)\n",
      "  File \"/Users/mac/miniforge3/envs/tensorflow_macos_3.8/lib/python3.8/site-packages/librosa/core/audio.py\", line 179, in load\n",
      "    y = resample(y, orig_sr=sr_native, target_sr=sr, res_type=res_type)\n",
      "  File \"/Users/mac/miniforge3/envs/tensorflow_macos_3.8/lib/python3.8/site-packages/librosa/util/decorators.py\", line 88, in inner_f\n",
      "    return f(*args, **kwargs)\n",
      "  File \"/Users/mac/miniforge3/envs/tensorflow_macos_3.8/lib/python3.8/site-packages/librosa/core/audio.py\", line 647, in resample\n",
      "    y_hat = resampy.resample(y, orig_sr, target_sr, filter=res_type, axis=-1)\n",
      "  File \"/Users/mac/miniforge3/envs/tensorflow_macos_3.8/lib/python3.8/site-packages/resampy/core.py\", line 149, in resample\n",
      "    resample_f_s(\n",
      "  File \"/Users/mac/miniforge3/envs/tensorflow_macos_3.8/lib/python3.8/site-packages/numba/np/ufunc/gufunc.py\", line 190, in __call__\n",
      "  File \"/Users/mac/miniforge3/envs/tensorflow_macos_3.8/lib/python3.8/site-packages/numba/np/ufunc/gufunc.py\", line 63, in add\n",
      "    def nout(self):\n",
      "  File \"/Users/mac/miniforge3/envs/tensorflow_macos_3.8/lib/python3.8/site-packages/numba/np/ufunc/ufuncbuilder.py\", line 241, in add\n",
      "    return _finalize_ufunc_signature(cres, args, return_type)\n",
      "  File \"/Users/mac/miniforge3/envs/tensorflow_macos_3.8/lib/python3.8/site-packages/numba/np/ufunc/ufuncbuilder.py\", line 173, in _compile_element_wise_function\n",
      "    with global_compiler_lock:\n",
      "  File \"/Users/mac/miniforge3/envs/tensorflow_macos_3.8/lib/python3.8/site-packages/numba/np/ufunc/ufuncbuilder.py\", line 121, in compile\n",
      "    return cres\n",
      "  File \"/Users/mac/miniforge3/envs/tensorflow_macos_3.8/lib/python3.8/site-packages/numba/np/ufunc/ufuncbuilder.py\", line 154, in _compile_core\n",
      "    if return_type is None:\n",
      "  File \"/Users/mac/miniforge3/envs/tensorflow_macos_3.8/lib/python3.8/site-packages/numba/core/compiler.py\", line 714, in compile_extra\n",
      "  File \"/Users/mac/miniforge3/envs/tensorflow_macos_3.8/lib/python3.8/site-packages/numba/core/compiler.py\", line 409, in __init__\n",
      "  File \"/Users/mac/miniforge3/envs/tensorflow_macos_3.8/lib/python3.8/site-packages/numba/core/base.py\", line 270, in refresh\n",
      "    Useful for third-party extensions.\n",
      "  File \"/Users/mac/miniforge3/envs/tensorflow_macos_3.8/lib/python3.8/site-packages/numba/core/cpu.py\", line 76, in load_additional_registries\n",
      "ModuleNotFoundError: No module named 'numba.np.random'\n",
      "\n",
      "During handling of the above exception, another exception occurred:\n",
      "\n",
      "Traceback (most recent call last):\n",
      "  File \"/Users/mac/miniforge3/envs/tensorflow_macos_3.8/lib/python3.8/site-packages/IPython/core/interactiveshell.py\", line 1993, in showtraceback\n",
      "    stb = self.InteractiveTB.structured_traceback(\n",
      "  File \"/Users/mac/miniforge3/envs/tensorflow_macos_3.8/lib/python3.8/site-packages/IPython/core/ultratb.py\", line 1118, in structured_traceback\n",
      "    return FormattedTB.structured_traceback(\n",
      "  File \"/Users/mac/miniforge3/envs/tensorflow_macos_3.8/lib/python3.8/site-packages/IPython/core/ultratb.py\", line 1012, in structured_traceback\n",
      "    return VerboseTB.structured_traceback(\n",
      "  File \"/Users/mac/miniforge3/envs/tensorflow_macos_3.8/lib/python3.8/site-packages/IPython/core/ultratb.py\", line 865, in structured_traceback\n",
      "    formatted_exception = self.format_exception_as_a_whole(etype, evalue, etb, number_of_lines_of_context,\n",
      "  File \"/Users/mac/miniforge3/envs/tensorflow_macos_3.8/lib/python3.8/site-packages/IPython/core/ultratb.py\", line 818, in format_exception_as_a_whole\n",
      "    frames.append(self.format_record(r))\n",
      "  File \"/Users/mac/miniforge3/envs/tensorflow_macos_3.8/lib/python3.8/site-packages/IPython/core/ultratb.py\", line 736, in format_record\n",
      "    result += ''.join(_format_traceback_lines(frame_info.lines, Colors, self.has_colors, lvals))\n",
      "  File \"/Users/mac/miniforge3/envs/tensorflow_macos_3.8/lib/python3.8/site-packages/stack_data/utils.py\", line 145, in cached_property_wrapper\n",
      "    value = obj.__dict__[self.func.__name__] = self.func(obj)\n",
      "  File \"/Users/mac/miniforge3/envs/tensorflow_macos_3.8/lib/python3.8/site-packages/stack_data/core.py\", line 734, in lines\n",
      "    pieces = self.included_pieces\n",
      "  File \"/Users/mac/miniforge3/envs/tensorflow_macos_3.8/lib/python3.8/site-packages/stack_data/utils.py\", line 145, in cached_property_wrapper\n",
      "    value = obj.__dict__[self.func.__name__] = self.func(obj)\n",
      "  File \"/Users/mac/miniforge3/envs/tensorflow_macos_3.8/lib/python3.8/site-packages/stack_data/core.py\", line 681, in included_pieces\n",
      "    pos = scope_pieces.index(self.executing_piece)\n",
      "  File \"/Users/mac/miniforge3/envs/tensorflow_macos_3.8/lib/python3.8/site-packages/stack_data/utils.py\", line 145, in cached_property_wrapper\n",
      "    value = obj.__dict__[self.func.__name__] = self.func(obj)\n",
      "  File \"/Users/mac/miniforge3/envs/tensorflow_macos_3.8/lib/python3.8/site-packages/stack_data/core.py\", line 660, in executing_piece\n",
      "    return only(\n",
      "  File \"/Users/mac/miniforge3/envs/tensorflow_macos_3.8/lib/python3.8/site-packages/executing/executing.py\", line 164, in only\n",
      "    raise NotOneValueFound('Expected one value, found 0')\n",
      "executing.executing.NotOneValueFound: Expected one value, found 0\n"
     ]
    },
    {
     "name": "stdout",
     "output_type": "stream",
     "text": [
      "Predicting MIDI for cant.mp3......  🥁🎷🎸🎻🎹                                       "
     ]
    }
   ],
   "source": [
    "model_output, midi_data, note_activations = predict('cant.mp3')"
   ]
  }
 ],
 "metadata": {
  "kernelspec": {
   "display_name": "Python 3.8.13 ('tensorflow_macos_3.8')",
   "language": "python",
   "name": "python3"
  },
  "language_info": {
   "codemirror_mode": {
    "name": "ipython",
    "version": 3
   },
   "file_extension": ".py",
   "mimetype": "text/x-python",
   "name": "python",
   "nbconvert_exporter": "python",
   "pygments_lexer": "ipython3",
   "version": "3.8.13"
  },
  "orig_nbformat": 4,
  "vscode": {
   "interpreter": {
    "hash": "f51107c6937f46bcb2ca53d52b89484dd74c50ee25c1fb4b0cade5b500b719f4"
   }
  }
 },
 "nbformat": 4,
 "nbformat_minor": 2
}
